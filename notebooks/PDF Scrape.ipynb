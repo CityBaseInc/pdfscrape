{
 "cells": [
  {
   "cell_type": "code",
   "execution_count": 1,
   "metadata": {},
   "outputs": [],
   "source": [
    "%load_ext autoreload\n",
    "%autoreload 2\n",
    "\n",
    "\n",
    "import pandas as pd\n",
    "from pdf_scrape import *\n",
    "from pdfminer.pdfparser import PDFParser\n",
    "from pdfminer.pdfdocument import PDFDocument\n",
    "from pdfminer.pdftypes import resolve1\n",
    "from pdfminer.pdfpage import PDFPage\n",
    "from pdfminer.pdftypes import PDFObjRef\n",
    "from interruptingcow import timeout\n",
    "import math\n",
    "import time\n",
    "from datetime import datetime"
   ]
  },
  {
   "cell_type": "code",
   "execution_count": 2,
   "metadata": {},
   "outputs": [
    {
     "data": {
      "text/plain": [
       "'Form W-4 (2018)\\n\\nFuture developments. For the latest \\ninformation about any future developments \\nrelated to Form W-4, such as legislation \\nenacted after it was published, go to \\nwww.irs.gov/FormW4.\\nPurpose. Complete Form W-4 so that your \\nemployer can withhold the correct federal \\nincome tax from your pay. Consider \\ncompleting a new Form W-4 each year and \\nwhen your personal or financial situation \\nchanges.\\nExemption from withholding. You may \\nclaim exemption from withholding for 2018 \\nif both of the following apply.\\n• For 2017 you had a right to a refund of all \\nfederal income tax withheld because you \\nhad no tax liability, and\\n• For 2018 you expect a refund of all \\nfederal income tax withheld because you \\nexpect to have no tax liability.\\nIf you’re exempt, complete only lines 1, 2, \\n3, 4, and 7 and sign the form to validate it. \\nYour exemption for 2018 expires February \\n15, 2019. See Pub. 505, Tax Withholding \\nand Estimated Tax, to learn more about \\nwhether you qualify for exemption from \\nwithholding.\\nGeneral Instructions\\nIf you aren’t exempt, follow the rest of \\nthese instructions to determine the number \\nof withholding allowances you should claim \\nfor withholding for 2018 and any additional \\namount of tax to have withheld. For regular \\nwages, withholding must be based on \\nallowances you claimed and may not be a \\nflat amount or percentage of wages.\\nYou can also use the calculator at \\n\\nwww.irs.gov/W4App to determine your \\ntax withholding more accurately. Consider\\n\\nusing this calculator if you have a more \\ncomplicated tax situation, such as if you \\nhave a working spouse, more than one job, \\nor a large amount of nonwage income \\noutside of your job.  After your Form W-4 \\ntakes effect, you can also use this \\ncalculator to see how the amount of tax \\nyou’re having withheld compares to your \\nprojected total tax for 2018. If you use the \\ncalculator, you don’t need to complete any \\nof the worksheets for Form W-4.\\n\\nNote that if you have too much tax \\n\\nwithheld, you will receive a refund when you \\nfile your tax return. If you have too little tax \\nwithheld, you will owe tax when you file your \\ntax return, and you might owe a penalty.\\nFilers with multiple jobs or working \\nspouses. If you have more than one job at \\na time, or if you’re married and your \\nspouse is also working, read all of the \\ninstructions including the instructions for \\nthe Two-Earners/Multiple Jobs Worksheet \\nbefore beginning. \\nNonwage income. If you have a large \\namount of nonwage income, such as \\ninterest or dividends, consider making \\nestimated tax payments using Form 1040-\\nES, Estimated Tax for Individuals. \\nOtherwise, you might owe additional tax. \\nOr, you can use the Deductions, \\nAdjustments, and Other Income Worksheet \\non page 3 or the calculator at www.irs.gov/\\nW4App to make sure you have enough tax \\nwithheld from your paycheck. If you have \\npension or annuity income, see Pub. 505 or \\nuse the calculator at www.irs.gov/W4App \\nto find out if you should adjust your \\nwithholding on Form W-4 or W-4P. \\nNonresident alien. If you’re a nonresident \\nalien, see Notice 1392, Supplemental Form \\nW-4 Instructions for Nonresident Aliens, \\nbefore completing this form.\\n\\nSpecific Instructions\\nPersonal Allowances Worksheet\\nComplete this worksheet on page 3 first to \\ndetermine the number of withholding \\nallowances to claim.\\nLine C. Head of household please note: \\nGenerally, you can claim head of \\nhousehold filing status on your tax return \\nonly if you’re unmarried and pay more than \\n50% of the costs of keeping up a home for \\nyourself and a qualifying individual. See \\nPub. 501 for more information about filing \\nstatus.\\nLine E. Child tax credit. When you file \\nyour tax return, you might be eligible to \\nclaim a credit for each of your qualifying \\nchildren. To qualify, the child must be \\nunder age 17 as of December 31 and must \\nbe your dependent who lives with you for \\nmore than half the year. To learn more \\nabout this credit, see Pub. 972, Child Tax \\nCredit. To reduce the tax withheld from \\nyour pay by taking this credit into account, \\nfollow the instructions on line E of the \\nworksheet. On the worksheet you will be \\nasked about your total income. For this \\npurpose, total income includes all of your \\nwages and other income, including income \\nearned by a spouse, during the year.\\nLine F. Credit for other dependents. \\nWhen you file your tax return, you might be \\neligible to claim a credit for each of your \\ndependents that don’t qualify for the child \\ntax credit, such as any dependent children \\nage 17 and older. To learn more about this \\ncredit, see Pub. 505. To reduce the tax \\nwithheld from your pay by taking this credit \\ninto account, follow the instructions on line \\nF of the worksheet. On the worksheet, you \\nwill be asked about your total income. For \\nthis purpose, total income includes all of\\n\\nSeparate here and give Form W-4 to your employer. Keep the worksheet(s) for your records.\\n\\nForm  W-4\\n\\nDepartment of the Treasury  \\nInternal Revenue Service \\n\\nEmployee’s Withholding Allowance Certificate\\n\\n▶ Whether you’re entitled to claim a certain number of allowances or exemption from withholding is \\nsubject to review by the IRS. Your employer may be required to send a copy of this form to the IRS. \\n\\nOMB No. 1545-0074\\n\\n2018\\n\\n1       Your first name and middle initial\\n\\nLast name\\n\\n2     Your social security number\\n\\nHome address (number and street or rural route)\\n\\nCity or town, state, and ZIP code\\n\\nSingle\\n\\nMarried\\n\\n3\\nMarried, but withhold at higher Single rate.\\nNote: If married filing separately, check “Married, but withhold at higher Single rate.”\\n4 If your last name differs from that shown on your social security card, \\ncheck here. You must call 800-772-1213 for a replacement card.      ▶\\n\\n5\\n6\\n7\\n\\nTotal number of allowances you’re claiming (from the applicable worksheet on the following  pages) \\nAdditional amount, if any, you want withheld from each paycheck \\n.\\nI claim exemption from withholding for 2018, and I certify that I meet both of the following conditions for exemption.\\n• Last year I had a right to a refund of all federal income tax withheld because I had no tax liability, and\\n• This year I expect a refund of all federal income tax withheld because I expect to have no tax liability.\\nIf you meet both conditions, write “Exempt” here .\\n\\n. ▶ 7\\n\\n.\\n.\\n\\n.\\n\\n.\\n\\n.\\n\\n.\\n\\n.\\n\\n.\\n\\n.\\n\\n.\\n\\n.\\n\\n.\\n\\n.\\n\\n.\\n\\n.\\n\\n.\\n\\n.\\n\\n.\\n\\n.\\n\\n.\\n\\n.\\n\\n.\\n\\n.\\n.\\n\\n.\\n\\n.\\n\\n.\\n\\n.\\n.\\n\\n5\\n6 $\\n\\nUnder penalties of perjury, I declare that I have examined this certificate and, to the best of my knowledge and belief, it is true, correct, and complete.\\n\\nEmployee’s signature  \\n(This form is not valid unless you sign it.) ▶\\n\\nDate ▶\\n\\n8  Employer’s name and address (Employer: Complete boxes 8 and 10 if sending to IRS and complete \\n\\nboxes 8, 9, and 10 if sending to State Directory of New Hires.)\\n\\n9  First date of \\nemployment\\n\\n10  Employer identification \\n\\nnumber (EIN)\\n\\nFor Privacy Act and Paperwork Reduction Act Notice, see page 4.\\n\\nCat. No. 10220Q\\n\\nForm W-4 (2018) \\n\\n\\x0cForm W-4 (2018)\\n\\nyour wages and other income, including \\nincome earned by a spouse, during the year.\\nLine G. Other credits. You might be able \\nto reduce the tax withheld from your \\npaycheck if you expect to claim other tax \\ncredits, such as the earned income tax \\ncredit and tax credits for education and \\nchild care expenses. If you do so, your \\npaycheck will be larger but the amount of \\nany refund that you receive when you file \\nyour tax return will be smaller. Follow the \\ninstructions for Worksheet 1-6 in Pub. 505 \\nif you want to reduce your withholding to \\ntake these credits into account.\\nDeductions, Adjustments, and \\nAdditional Income Worksheet\\nComplete this worksheet to determine if \\nyou’re able to reduce the tax withheld from \\nyour paycheck to account for your itemized \\ndeductions and other adjustments to \\nincome such as IRA contributions. If you \\ndo so, your refund at the end of the year \\nwill be smaller, but your paycheck will be \\nlarger. You’re not required to complete this \\nworksheet or reduce your withholding if \\nyou don’t wish to do so.\\n\\nYou can also use this worksheet to figure \\nout how much to increase the tax withheld \\nfrom your paycheck if you have a large \\namount of nonwage income, such as \\ninterest or dividends.\\n\\nAnother option is to take these items into \\n\\naccount and make your withholding more \\naccurate by using the calculator at \\nwww.irs.gov/W4App. If you use the \\ncalculator, you don’t need to complete any \\nof the worksheets for Form W-4.\\nTwo-Earners/Multiple Jobs \\nWorksheet\\nComplete this worksheet if you have more\\n\\nthan one job at a time or are married filing \\njointly and have a working spouse. If you \\ndon’t complete this worksheet, you might \\nhave too little tax withheld. If so, you will \\nowe tax when you file your tax return and \\nmight be subject to a penalty.\\n\\nFigure the total number of allowances \\n\\nyou’re entitled to claim and any additional \\namount of tax to withhold on all jobs using \\nworksheets from only one Form W-4. Claim \\nall allowances on the W-4 that you or your \\nspouse file for the highest paying job in \\nyour family and claim zero allowances on \\nForms W-4 filed for all other jobs. For \\nexample, if you earn $60,000 per year and \\nyour spouse earns $20,000, you should \\ncomplete the worksheets to determine \\nwhat to enter on lines 5 and 6 of your Form \\nW-4, and your spouse should enter zero \\n(“-0-”) on lines 5 and 6 of his or her Form \\nW-4. See Pub. 505 for details.\\n\\nAnother option is to use the calculator at \\n\\nwww.irs.gov/W4App to make your \\nwithholding more accurate.\\nTip: If you have a working spouse and your \\nincomes are similar, you can check the \\n“Married, but withhold at higher Single \\nrate” box instead of using this worksheet. If \\nyou choose this option, then each spouse \\nshould fill out the Personal Allowances \\nWorksheet and check the “Married, but \\nwithhold at higher Single rate” box on Form \\nW-4, but only one spouse should claim any \\nallowances for credits or fill out the \\nDeductions, Adjustments, and Additional \\nIncome Worksheet.\\nInstructions for Employer\\nEmployees, do not complete box 8, 9, or \\n10. Your employer will complete these \\nboxes if necessary.\\nNew hire reporting. Employers are\\n\\nPage 2 \\n\\nrequired by law to report new employees to \\na designated State Directory of New Hires. \\nEmployers may use Form W-4, boxes 8, 9, \\nand 10 to comply with the new hire \\nreporting requirement for a newly hired \\nemployee. A newly hired employee is an \\nemployee who hasn’t previously been \\nemployed by the employer, or who was \\npreviously employed by the employer but \\nhas been separated from such prior \\nemployment for at least 60 consecutive \\ndays. Employers should contact the \\nappropriate State Directory of New Hires to \\nfind out how to submit a copy of the \\ncompleted Form W-4. For information and \\nlinks to each designated State Directory of \\nNew Hires (including for U.S. territories), go \\nto www.acf.hhs.gov/programs/css/\\nemployers.\\n\\nIf an employer is sending a copy of Form \\n\\nW-4 to a designated State Directory of \\nNew Hires to comply with the new hire \\nreporting requirement for a newly hired \\nemployee, complete boxes 8, 9, and 10 as \\nfollows. \\nBox 8. Enter the employer’s name and \\naddress. If the employer is sending a copy \\nof this form to a State Directory of New \\nHires, enter the address where child \\nsupport agencies should send income \\nwithholding orders. \\nBox 9. If the employer is sending a copy of \\nthis form to a State Directory of New Hires, \\nenter the employee’s first date of \\nemployment, which is the date services for \\npayment were first performed by the \\nemployee. If the employer rehired the \\nemployee after the employee had been \\nseparated from the employer’s service for \\nat least 60 days, enter the rehire date.\\nBox 10. Enter the employer’s employer \\nidentification number (EIN).\\n\\n\\x0cForm W-4 (2018)\\n\\nPage 3\\n\\nA\\nB\\nC\\n\\nD\\n\\nE\\n\\nEnter “1” for yourself \\n.\\nEnter “1” if you will file as married filing jointly .\\nEnter “1” if you will file as head of household .\\n\\nPersonal Allowances Worksheet (Keep for your records.)\\n.\\n.\\n.\\n.\\n\\n.\\n.\\n.\\n\\n.\\n.\\n.\\n\\n.\\n.\\n.\\n\\n.\\n.\\n.\\n\\n.\\n.\\n.\\n\\n.\\n.\\n.\\n\\n.\\n.\\n.\\n\\n.\\n.\\n.\\n\\n.\\n.\\n.\\n\\n.\\n.\\n.\\n\\n.\\n.\\n.\\n\\n.\\n.\\n.\\n\\n.\\n.\\n.\\n\\n.\\n.\\n.\\n\\n.\\n.\\n.\\n\\n.\\n\\n.\\n\\n.\\n\\n.\\n\\n.\\n\\n.\\n\\n.\\n.\\n.\\n\\n.\\n.\\n.\\n\\n.\\n.\\n.\\n\\n.\\n.\\n.\\n\\n.\\n.\\n.\\n\\n.\\n.\\n.\\n\\nEnter “1” if:{ • You’re single, or married filing separately, and have only one job; or\\n\\n• Your wages from a second job or your spouse’s wages (or the total of both) are $1,500 or less. }\\n\\n• You’re married filing jointly, have only one job, and your spouse doesn’t work; or\\n\\nChild tax credit. See Pub. 972, Child Tax Credit, for more information.\\n• If your total income will be less than $69,801 ($101,401 if married filing jointly), enter “4” for each eligible child. \\n• If your total income will be from $69,801 to $175,550 ($101,401 to $339,000 if married filing jointly), enter “2” for each \\neligible child.\\n• If your total income will be from $175,551 to $200,000 ($339,001 to $400,000 if married filing jointly), enter “1” for \\neach eligible child.\\n• If your total income will be higher than $200,000 ($400,000 if married filing jointly), enter “-0-”\\nCredit for other dependents.\\n• If your total income will be less than $69,801 ($101,401 if married filing jointly), enter “1” for each eligible dependent. \\n• If your total income will be from $69,801 to $175,550 ($101,401 to $339,000 if married filing jointly), enter “1” for every \\ntwo dependents  (for example, “-0-” for one dependent, “1” if you have two or three dependents, and “2” if you have \\nfour dependents).\\n• If your total income will be higher than $175,550 ($339,000 if married filing jointly), enter “-0-”\\n.\\nOther credits. If you have other credits, see Worksheet 1-6 of Pub. 505 and enter the amount from that worksheet here \\nAdd lines A through G and enter the total here \\n.\\n\\nthat apply. { • If you plan to itemize or claim adjustments to income and want to reduce your withholding, or if you \\n\\nhave  a  large  amount  of  nonwage  income  and  want  to  increase  your  withholding,  see  the  Deductions, \\nAdjustments, and Additional Income Worksheet below.\\n• If you have more than one job at a time or are married filing jointly and you and your spouse both \\nwork, and the combined earnings from all jobs exceed $52,000 ($24,000 if married filing jointly), see the \\nTwo-Earners/Multiple Jobs Worksheet on page 4 to avoid having too little tax withheld.\\n• If neither of the above situations applies, stop here and enter the number from line H on line 5 of Form \\nW-4 above.\\n\\nFor accuracy, \\ncomplete all \\nworksheets \\n\\n.\\n.\\n.\\n\\n.\\n\\n.\\n\\n.\\n\\n.\\n\\n.\\n\\n.\\n\\n.\\n\\n.\\n\\n.\\n\\n.\\n\\n.\\n\\n.\\n\\n.\\n\\n.\\n\\n.\\n\\n.\\n\\n.\\n\\n.\\n\\n.\\n\\n.\\n\\n.\\n\\n.\\n\\n.\\n\\n.\\n\\n.\\n\\n.\\n\\n.\\n\\n.\\n\\n.\\n\\n.\\n\\nF\\n.\\nG\\n.\\n.  ▶ H\\n\\nNote: Use this worksheet only if you plan to itemize deductions, claim certain adjustments to income, or have a large amount of nonwage \\n\\nDeductions, Adjustments, and Additional Income Worksheet\\n\\nincome.\\n\\nA\\nB\\nC\\n\\nD\\n\\nE\\n\\nF\\n\\nG\\nH\\n\\n1 \\n \\n\\n2\\n\\n3\\n4 \\n\\nEnter  an  estimate  of  your  2018  itemized  deductions.  These  include  qualifying  home  mortgage  interest, \\ncharitable contributions, state and local taxes (up to $10,000), and medical expenses in excess of 7.5% of \\nyour income. See Pub. 505 for details \\n\\n.\\n\\n.\\n\\n.\\n\\n.\\n\\n.\\n\\n.\\n\\n.\\n\\n.\\n\\n.\\n\\n.\\n\\n.\\n\\n.\\n\\n.\\n\\n.\\n\\n.\\n\\n.\\n\\n.\\n\\n.\\n\\n.\\n\\n.\\n\\n.\\n\\n.\\n\\nEnter: { $24,000 if you’re married filing jointly or qualifying widow(er)\\n\\n$18,000 if you’re head of household\\n$12,000 if you’re single or married filing separately\\n\\n} .\\n\\n.\\n\\n.\\n\\n.\\n\\n.\\n\\n.\\n\\n.\\n\\n.\\n\\n.\\n\\n.\\n\\n.\\n\\nSubtract line 2 from line 1. If zero or less, enter “-0-” \\nEnter  an  estimate  of  your  2018  adjustments  to  income  and  any  additional  standard  deduction  for  age  or \\n.\\n.\\nblindness (see Pub. 505 for information about these items) .\\nAdd lines 3 and 4 and enter the total \\n.\\n.\\n.\\nEnter an estimate of your 2018 nonwage income (such as dividends or interest)\\n.\\nSubtract line 6 from line 5. If zero, enter “-0-”. If less than zero, enter the amount in parentheses \\n\\n5\\n6\\n7\\n8  Divide the amount on line 7 by $4,150 and enter the result here. If a negative amount, enter in parentheses. \\n\\n.\\n.\\n.\\n.\\n\\n.\\n.\\n.\\n.\\n\\n.\\n.\\n.\\n.\\n\\n.\\n.\\n.\\n\\n.\\n.\\n.\\n\\n.\\n.\\n.\\n\\n.\\n.\\n.\\n\\n.\\n.\\n.\\n\\n.\\n.\\n\\n.\\n.\\n\\n.\\n.\\n\\n.\\n.\\n\\n.\\n.\\n\\n.\\n\\n.\\n\\n.\\n\\n.\\n\\n.\\n\\n.\\n\\n.\\n\\n.\\n\\n.\\n\\n.\\n\\n.\\n\\n.\\n\\n.\\n\\n.\\n\\n.\\n\\n.\\n\\n.\\n\\n.\\n\\n.\\n\\n.\\n\\n.\\n\\n.\\n\\n.\\n\\n9\\n10 \\n \\n\\n.\\n\\n.\\n\\n.\\n\\n.\\n\\n.\\n\\n.\\n\\n.\\nDrop any fraction \\n.\\nEnter the number from the Personal Allowances Worksheet, line H above \\n.\\nAdd lines 8 and 9 and enter the total here. If zero or less, enter “-0-”. If you plan to use the Two-Earners/\\nMultiple Jobs Worksheet, also enter this total on line 1, page 4. Otherwise, stop here and enter this total \\non Form W-4, line 5, page 1 \\n\\n.\\n.\\n\\n.\\n.\\n\\n.\\n.\\n\\n.\\n.\\n\\n.\\n.\\n\\n.\\n.\\n\\n.\\n.\\n\\n.\\n.\\n\\n.\\n.\\n\\n.\\n\\n.\\n\\n.\\n\\n.\\n\\n.\\n\\n.\\n\\n.\\n\\n.\\n\\n.\\n\\n.\\n\\n.\\n\\n.\\n\\n.\\n\\n.\\n\\n.\\n\\n.\\n\\n.\\n\\n.\\n\\n.\\n\\n.\\n\\n.\\n\\n.\\n\\n.\\n\\n.\\n\\n.\\n\\n.\\n\\n.\\n\\n.\\n\\n.\\n\\n.\\n\\n.\\n\\n.\\n\\n.\\n\\n.\\n\\n.\\n\\n.\\n\\n1 $\\n\\n2 $\\n\\n3 $\\n\\n4 $\\n5 $\\n6 $\\n7 $\\n\\n8\\n9\\n\\n10\\n\\n\\x0cForm W-4 (2018)\\n\\nNote: Use this worksheet only if the instructions under line H from the Personal Allowances Worksheet direct you here.\\n\\nTwo-Earners/Multiple Jobs Worksheet\\n\\nPage 4 \\n\\n.\\n\\n.\\n\\n.\\n\\n.\\n\\n.\\n\\n.\\n\\n.\\n\\n1 \\n\\n2 \\n\\n3 \\n\\nEnter  the  number  from  the  Personal  Allowances  Worksheet,  line  H,  page  3  (or,  if  you  used  the \\nDeductions, Adjustments, and Additional Income Worksheet on page 3, the number from line 10 of that \\nworksheet) \\nFind the number in Table 1 below that applies to the LOWEST paying job and enter it here. However, if you’re \\nmarried filing jointly and wages from the highest paying job are $75,000 or less and the combined wages for \\nyou and your spouse are $107,000 or less, don’t enter more than “3”  .\\nIf line 1 is more than or equal to line 2, subtract line 2 from line 1. Enter the result here (if zero, enter “-0-”) \\nand on Form W-4, line 5, page 1. Do not use the rest of this worksheet .\\n\\n.\\nNote: If line 1 is less than line 2, enter “-0-” on Form W-4, line 5, page 1. Complete lines 4 through 9 below to \\n\\n.\\n\\n.\\n\\n.\\n\\n.\\n\\n.\\n\\n.\\n\\n.\\n\\n.\\n\\n.\\n\\n.\\n\\n.\\n\\n.\\n\\n.\\n\\n.\\n\\n.\\n\\n.\\n\\n.\\n\\n.\\n\\n.\\n\\n.\\n\\n.\\n\\n.\\n\\n.\\n\\n.\\n\\n.\\n\\n.\\n\\n.\\n\\n.\\n\\n.\\n\\n.\\n\\n.\\n\\n.\\n\\n.\\n\\n.\\n\\n.\\n\\n.\\n\\n.\\n\\n.\\n\\n.\\n\\n.\\n\\n.\\n\\n.\\n\\n.\\n\\n.\\n\\n.\\n\\nfigure the additional withholding amount necessary to avoid a year-end tax bill.\\n.\\nEnter the number from line 2 of this worksheet \\n.\\nEnter the number from line 1 of this worksheet \\nSubtract line 5 from line 4  .\\n.\\n.\\n.\\nFind the amount in Table 2 below that applies to the HIGHEST paying job and enter it here \\n\\n4\\n5\\n6\\n.\\n7\\n.\\n8 Multiply line 7 by line 6 and enter the result here. This is the additional annual withholding needed \\n9 \\n \\n \\n\\nDivide line 8 by the number of pay periods remaining in 2018. For example, divide by 18 if you’re paid every \\n2  weeks  and  you  complete  this  form  on  a  date  in  late  April  when  there  are  18  pay  periods  remaining  in \\n2018. Enter the result here and on Form W-4, line 6, page 1. This is the additional amount to be withheld \\nfrom each paycheck \\n\\n.\\n.\\n.\\n\\n.\\n.\\n.\\n\\n.\\n.\\n.\\n\\n4\\n5\\n\\n.\\n.\\n.\\n\\n.\\n.\\n.\\n\\n.\\n.\\n.\\n\\n.\\n.\\n.\\n\\n.\\n.\\n.\\n\\n.\\n.\\n.\\n\\n.\\n.\\n.\\n\\n.\\n.\\n.\\n\\n.\\n.\\n.\\n\\n.\\n.\\n.\\n\\n.\\n.\\n\\n.\\n\\n.\\n\\n.\\n\\n.\\n\\n.\\n\\n.\\n\\n.\\n\\n.\\n\\n.\\n\\n.\\n\\n.\\n\\n.\\n\\n.\\n\\n.\\n\\n.\\n\\n.\\n\\n.\\n\\n.\\n\\n.\\n\\n.\\n\\n.\\n\\n.\\n\\n.\\n\\n.\\n\\n.\\n\\n.\\n\\n.\\n\\n.\\n\\n.\\n\\n.\\n\\n.\\nTable 1\\n\\n.\\n\\n.\\n\\n.\\nTable 2\\n\\n1\\n\\n2\\n\\n3\\n\\n6\\n7 $\\n8 $\\n\\n9 $\\n\\nMarried Filing Jointly\\n\\nAll Others\\n\\nMarried Filing Jointly\\n\\nAll Others\\n\\nIf wages from LOWEST \\npaying job are—\\n\\nEnter on  \\nline 2 above\\n\\nIf wages from LOWEST \\npaying job are—\\n\\nEnter on  \\nline 2 above\\n\\nIf wages from HIGHEST \\npaying job are—\\n\\nEnter on  \\nline 7 above\\n\\nIf wages from HIGHEST \\npaying job are—\\n\\nEnter on  \\nline 7 above\\n\\n $0  -   $24,375\\n24,376  -    82,725\\n82,726  -  170,325\\n170,326  -  320,325\\n320,326  -  405,325\\n405,326  -  605,325\\n605,326 and over\\n\\n        $420\\n500\\n910\\n1,000\\n1,330\\n1,450\\n1,540\\n\\n$0  -      $7,000\\n7,001  -     36,175\\n36,176  -    79,975\\n79,976  -  154,975\\n154,976  -  197,475\\n197,476  -  497,475\\n497,476 and over\\n\\n$420\\n500\\n910\\n1,000\\n1,330\\n1,450\\n1,540\\n\\n $0  -    $5,000\\n5,001  -      9,500\\n9,501  -    19,000\\n19,001  -    26,500\\n26,501  -    37,000\\n37,001  -    43,500\\n43,501  -    55,000\\n55,001  -    60,000\\n60,001  -    70,000\\n70,001  -    75,000\\n75,001  -    85,000\\n85,001  -    95,000\\n95,001  -  130,000\\n130,001  -  150,000\\n150,001  -  160,000\\n160,001  -  170,000\\n170,001  -  180,000\\n180,001  -  190,000\\n190,001  -  200,000\\n200,001 and over      \\n\\n0\\n1\\n2\\n3\\n4\\n5\\n6\\n7\\n8\\n9\\n10\\n11\\n12\\n13\\n14\\n15\\n  16\\n17\\n18\\n19\\n\\n$0  -    $7,000\\n7,001  -    12,500\\n12,501  -    24,500\\n24,501  -    31,500\\n31,501  -    39,000\\n39,001  -    55,000\\n55,001  -    70,000\\n70,001  -    85,000\\n85,001  -    90,000\\n90,001  -  100,000\\n100,001  -  105,000\\n105,001  -  115,000\\n115,001  -  120,000\\n120,001  -  130,000\\n130,001  -  145,000\\n145,001  -  155,000\\n155,001  -  185,000\\n185,001 and over\\n\\n0\\n1\\n2\\n3\\n4\\n5\\n6\\n7\\n8\\n9\\n10\\n11\\n12\\n13\\n14\\n15\\n16\\n17\\n\\nPrivacy Act and Paperwork Reduction \\nAct Notice. We ask for the information on \\nthis form to carry out the Internal Revenue \\nlaws of the United States. Internal Revenue \\nCode sections 3402(f)(2) and 6109 and \\ntheir regulations require you to provide this \\ninformation; your employer uses it to \\ndetermine your federal income tax \\nwithholding. Failure to provide a properly \\ncompleted form will result in your being \\ntreated as a single person who claims no \\nwithholding allowances; providing \\nfraudulent information may subject you to \\npenalties. Routine uses of this information \\ninclude giving it to the Department of \\nJustice for civil and criminal litigation; to \\ncities, states, the District of Columbia, and \\n\\nU.S. commonwealths and possessions for \\nuse in administering their tax laws; and to \\nthe Department of Health and Human \\nServices for use in the National Directory of \\nNew Hires. We may also disclose this \\ninformation to other countries under a tax \\ntreaty, to federal and state agencies to \\nenforce federal nontax criminal laws, or to \\nfederal law enforcement and intelligence \\nagencies to combat terrorism.\\n\\nYou aren’t required to provide the \\n\\ninformation requested on a form that’s \\nsubject to the Paperwork Reduction Act \\nunless the form displays a valid OMB \\ncontrol number. Books or records relating \\nto a form or its instructions must be\\n\\nretained as long as their contents may \\nbecome material in the administration of \\nany Internal Revenue law. Generally, tax \\nreturns and return information are \\nconfidential, as required by Code section \\n6103. \\n\\nThe average time and expenses required \\n\\nto complete and file this form will vary \\ndepending on individual circumstances. \\nFor estimated averages, see the \\ninstructions for your income tax return.\\n\\nIf you have suggestions for making this \\nform simpler, we would be happy to hear \\nfrom you. See the instructions for your \\nincome tax return.\\n\\n\\x0c'"
      ]
     },
     "execution_count": 2,
     "metadata": {},
     "output_type": "execute_result"
    }
   ],
   "source": [
    "convert_pdf_to_txt('fw4.pdf', random_sample_size = 5, sample_base = 5)"
   ]
  },
  {
   "cell_type": "code",
   "execution_count": 3,
   "metadata": {},
   "outputs": [
    {
     "data": {
      "text/plain": [
       "[{'CreationDate': b\"D:20180123091214-06'00'\",\n",
       "  'Creator': b'Canon iR-ADV 4245  PDF',\n",
       "  'ModDate': b\"D:20180123125633-06'00'\",\n",
       "  'Producer': b'Adobe PSL 1.2e for Canon'}]"
      ]
     },
     "execution_count": 3,
     "metadata": {},
     "output_type": "execute_result"
    }
   ],
   "source": [
    "fp = open('Spec579313.pdf', 'rb')\n",
    "parser = PDFParser(fp)\n",
    "doc = PDFDocument(parser)\n",
    "\n",
    "doc.info"
   ]
  },
  {
   "cell_type": "code",
   "execution_count": null,
   "metadata": {
    "collapsed": true
   },
   "outputs": [],
   "source": []
  },
  {
   "cell_type": "code",
   "execution_count": null,
   "metadata": {
    "collapsed": true
   },
   "outputs": [],
   "source": [
    "\n"
   ]
  },
  {
   "cell_type": "code",
   "execution_count": null,
   "metadata": {
    "collapsed": true
   },
   "outputs": [],
   "source": []
  },
  {
   "cell_type": "code",
   "execution_count": null,
   "metadata": {
    "collapsed": true
   },
   "outputs": [],
   "source": []
  },
  {
   "cell_type": "code",
   "execution_count": null,
   "metadata": {
    "collapsed": true
   },
   "outputs": [],
   "source": []
  },
  {
   "cell_type": "code",
   "execution_count": null,
   "metadata": {
    "collapsed": true
   },
   "outputs": [],
   "source": []
  },
  {
   "cell_type": "code",
   "execution_count": null,
   "metadata": {
    "collapsed": true
   },
   "outputs": [],
   "source": []
  },
  {
   "cell_type": "code",
   "execution_count": 3,
   "metadata": {
    "collapsed": true
   },
   "outputs": [],
   "source": [
    "def see_first_obj(path):\n",
    "    open_file = open(path, 'rb')\n",
    "    pages = PDFPage.get_pages(open_file)\n",
    "    for num, page in enumerate(pages):\n",
    "        if page.annots:\n",
    "            if type(page.annots) == list:\n",
    "                print(num+1, page.annots[0].resolve())\n",
    "            else:\n",
    "                print(num+1, page.annots.resolve()[0].resolve())\n",
    "    open_file.close()"
   ]
  },
  {
   "cell_type": "code",
   "execution_count": 4,
   "metadata": {},
   "outputs": [
    {
     "name": "stdout",
     "output_type": "stream",
     "text": [
      "1 {'AP': {'N': <PDFObjRef:1140>}, 'DA': b'/HelveticaLTStd-Bold 8.00 Tf 0.000 0.000 0.502 rg', 'F': 4, 'FT': /'Tx', 'Ff': 8388608, 'MK': {}, 'P': <PDFObjRef:1044>, 'Parent': <PDFObjRef:70>, 'Q': 0, 'Rect': [36, 227.967, 216, 241.968], 'StructParent': 1, 'Subtype': /'Widget', 'T': b'\\xfe\\xff\\x00f\\x001\\x00_\\x001\\x00[\\x000\\x00]', 'Type': /'Annot', 'V': b'Vidal'}\n",
      "3 {'DA': b'/HelveticaLTStd-Bold 8.00 Tf 0.000 0.000 0.502 rg', 'F': 4, 'FT': /'Tx', 'Ff': 8388608, 'MK': {}, 'P': <PDFObjRef:3>, 'Parent': <PDFObjRef:68>, 'Q': 1, 'Rect': [540.0, 719.965, 568.8, 731.967], 'StructParent': 18, 'Subtype': /'Widget', 'T': b'\\xfe\\xff\\x00f\\x003\\x00_\\x001\\x00[\\x000\\x00]', 'Type': /'Annot'}\n",
      "4 {'DA': b'/HelveticaLTStd-Bold 8.00 Tf 0.000 0.000 0.502 rg', 'F': 4, 'FT': /'Tx', 'Ff': 8388608, 'MK': {}, 'P': <PDFObjRef:7>, 'Parent': <PDFObjRef:69>, 'Q': 1, 'Rect': [504.0, 683.968, 568.8, 695.967], 'StructParent': 37, 'Subtype': /'Widget', 'T': b'\\xfe\\xff\\x00f\\x004\\x00_\\x001\\x00[\\x000\\x00]', 'Type': /'Annot'}\n"
     ]
    }
   ],
   "source": [
    "see_first_obj('fw4.pdf')"
   ]
  },
  {
   "cell_type": "code",
   "execution_count": 5,
   "metadata": {},
   "outputs": [
    {
     "name": "stdout",
     "output_type": "stream",
     "text": [
      "1 True\n",
      "2 --\n",
      "3 True\n",
      "4 True\n"
     ]
    }
   ],
   "source": [
    "def see_pages(path):\n",
    "    pdf = open(path, 'rb')\n",
    "    for num, page in enumerate(list(PDFPage.get_pages(pdf))):\n",
    "        if page.annots:\n",
    "            print(num+1, is_fillable_page(page))\n",
    "        else:\n",
    "            print(num+1, '--')\n",
    "    pdf.close()\n",
    "see_pages('fw4.pdf')"
   ]
  },
  {
   "cell_type": "code",
   "execution_count": 6,
   "metadata": {},
   "outputs": [
    {
     "ename": "KeyboardInterrupt",
     "evalue": "",
     "output_type": "error",
     "traceback": [
      "\u001b[1;31m---------------------------------------------------------------------------\u001b[0m",
      "\u001b[1;31mKeyboardInterrupt\u001b[0m                         Traceback (most recent call last)",
      "\u001b[1;32m<ipython-input-6-c2c2eb48f88b>\u001b[0m in \u001b[0;36m<module>\u001b[1;34m()\u001b[0m\n\u001b[1;32m----> 1\u001b[1;33m \u001b[0mis_fillable_pdf\u001b[0m\u001b[1;33m(\u001b[0m\u001b[1;34m'temp/temp.pdf'\u001b[0m\u001b[1;33m)\u001b[0m\u001b[1;33m\u001b[0m\u001b[0m\n\u001b[0m",
      "\u001b[1;32m~\\Desktop\\ChiPDFs\\pdf_scrape.py\u001b[0m in \u001b[0;36mis_fillable_pdf\u001b[1;34m(path, maxpages)\u001b[0m\n\u001b[0;32m    129\u001b[0m     \u001b[0mfp\u001b[0m \u001b[1;33m=\u001b[0m \u001b[0mopen\u001b[0m\u001b[1;33m(\u001b[0m\u001b[0mpath\u001b[0m\u001b[1;33m,\u001b[0m \u001b[1;34m'rb'\u001b[0m\u001b[1;33m)\u001b[0m\u001b[1;33m\u001b[0m\u001b[0m\n\u001b[0;32m    130\u001b[0m     \u001b[1;32mtry\u001b[0m\u001b[1;33m:\u001b[0m\u001b[1;33m\u001b[0m\u001b[0m\n\u001b[1;32m--> 131\u001b[1;33m         \u001b[0mpages\u001b[0m \u001b[1;33m=\u001b[0m \u001b[0mlist\u001b[0m\u001b[1;33m(\u001b[0m\u001b[0mPDFPage\u001b[0m\u001b[1;33m.\u001b[0m\u001b[0mget_pages\u001b[0m\u001b[1;33m(\u001b[0m\u001b[0mfp\u001b[0m\u001b[1;33m,\u001b[0m \u001b[0mmaxpages\u001b[0m \u001b[1;33m=\u001b[0m \u001b[0mmaxpages\u001b[0m\u001b[1;33m)\u001b[0m\u001b[1;33m)\u001b[0m\u001b[1;33m\u001b[0m\u001b[0m\n\u001b[0m\u001b[0;32m    132\u001b[0m         \u001b[1;32mfor\u001b[0m \u001b[0mpage\u001b[0m \u001b[1;32min\u001b[0m \u001b[0mpages\u001b[0m\u001b[1;33m:\u001b[0m\u001b[1;33m\u001b[0m\u001b[0m\n\u001b[0;32m    133\u001b[0m             \u001b[1;32mif\u001b[0m \u001b[0mis_fillable_page\u001b[0m\u001b[1;33m(\u001b[0m\u001b[0mpage\u001b[0m\u001b[1;33m)\u001b[0m \u001b[1;33m==\u001b[0m \u001b[1;32mTrue\u001b[0m\u001b[1;33m:\u001b[0m\u001b[1;33m\u001b[0m\u001b[0m\n",
      "\u001b[1;32m~\\Anaconda3\\lib\\site-packages\\pdfminer\\pdfpage.py\u001b[0m in \u001b[0;36mget_pages\u001b[1;34m(klass, fp, pagenos, maxpages, password, caching, check_extractable)\u001b[0m\n\u001b[0;32m    119\u001b[0m         \u001b[0mparser\u001b[0m \u001b[1;33m=\u001b[0m \u001b[0mPDFParser\u001b[0m\u001b[1;33m(\u001b[0m\u001b[0mfp\u001b[0m\u001b[1;33m)\u001b[0m\u001b[1;33m\u001b[0m\u001b[0m\n\u001b[0;32m    120\u001b[0m         \u001b[1;31m# Create a PDF document object that stores the document structure.\u001b[0m\u001b[1;33m\u001b[0m\u001b[1;33m\u001b[0m\u001b[0m\n\u001b[1;32m--> 121\u001b[1;33m         \u001b[0mdoc\u001b[0m \u001b[1;33m=\u001b[0m \u001b[0mPDFDocument\u001b[0m\u001b[1;33m(\u001b[0m\u001b[0mparser\u001b[0m\u001b[1;33m,\u001b[0m \u001b[0mpassword\u001b[0m\u001b[1;33m=\u001b[0m\u001b[0mpassword\u001b[0m\u001b[1;33m,\u001b[0m \u001b[0mcaching\u001b[0m\u001b[1;33m=\u001b[0m\u001b[0mcaching\u001b[0m\u001b[1;33m)\u001b[0m\u001b[1;33m\u001b[0m\u001b[0m\n\u001b[0m\u001b[0;32m    122\u001b[0m         \u001b[1;31m# Check if the document allows text extraction. If not, abort.\u001b[0m\u001b[1;33m\u001b[0m\u001b[1;33m\u001b[0m\u001b[0m\n\u001b[0;32m    123\u001b[0m         \u001b[1;32mif\u001b[0m \u001b[0mcheck_extractable\u001b[0m \u001b[1;32mand\u001b[0m \u001b[1;32mnot\u001b[0m \u001b[0mdoc\u001b[0m\u001b[1;33m.\u001b[0m\u001b[0mis_extractable\u001b[0m\u001b[1;33m:\u001b[0m\u001b[1;33m\u001b[0m\u001b[0m\n",
      "\u001b[1;32m~\\Anaconda3\\lib\\site-packages\\pdfminer\\pdfdocument.py\u001b[0m in \u001b[0;36m__init__\u001b[1;34m(self, parser, password, caching, fallback)\u001b[0m\n\u001b[0;32m    562\u001b[0m             \u001b[0mparser\u001b[0m\u001b[1;33m.\u001b[0m\u001b[0mfallback\u001b[0m \u001b[1;33m=\u001b[0m \u001b[1;32mTrue\u001b[0m\u001b[1;33m\u001b[0m\u001b[0m\n\u001b[0;32m    563\u001b[0m             \u001b[0mxref\u001b[0m \u001b[1;33m=\u001b[0m \u001b[0mPDFXRefFallback\u001b[0m\u001b[1;33m(\u001b[0m\u001b[1;33m)\u001b[0m\u001b[1;33m\u001b[0m\u001b[0m\n\u001b[1;32m--> 564\u001b[1;33m             \u001b[0mxref\u001b[0m\u001b[1;33m.\u001b[0m\u001b[0mload\u001b[0m\u001b[1;33m(\u001b[0m\u001b[0mparser\u001b[0m\u001b[1;33m)\u001b[0m\u001b[1;33m\u001b[0m\u001b[0m\n\u001b[0m\u001b[0;32m    565\u001b[0m             \u001b[0mself\u001b[0m\u001b[1;33m.\u001b[0m\u001b[0mxrefs\u001b[0m\u001b[1;33m.\u001b[0m\u001b[0mappend\u001b[0m\u001b[1;33m(\u001b[0m\u001b[0mxref\u001b[0m\u001b[1;33m)\u001b[0m\u001b[1;33m\u001b[0m\u001b[0m\n\u001b[0;32m    566\u001b[0m         \u001b[1;32mfor\u001b[0m \u001b[0mxref\u001b[0m \u001b[1;32min\u001b[0m \u001b[0mself\u001b[0m\u001b[1;33m.\u001b[0m\u001b[0mxrefs\u001b[0m\u001b[1;33m:\u001b[0m\u001b[1;33m\u001b[0m\u001b[0m\n",
      "\u001b[1;32m~\\Anaconda3\\lib\\site-packages\\pdfminer\\pdfdocument.py\u001b[0m in \u001b[0;36mload\u001b[1;34m(self, parser)\u001b[0m\n\u001b[0;32m    191\u001b[0m             \u001b[1;31m# expand ObjStm.\u001b[0m\u001b[1;33m\u001b[0m\u001b[1;33m\u001b[0m\u001b[0m\n\u001b[0;32m    192\u001b[0m             \u001b[0mparser\u001b[0m\u001b[1;33m.\u001b[0m\u001b[0mseek\u001b[0m\u001b[1;33m(\u001b[0m\u001b[0mpos\u001b[0m\u001b[1;33m)\u001b[0m\u001b[1;33m\u001b[0m\u001b[0m\n\u001b[1;32m--> 193\u001b[1;33m             \u001b[1;33m(\u001b[0m\u001b[0m_\u001b[0m\u001b[1;33m,\u001b[0m \u001b[0mobj\u001b[0m\u001b[1;33m)\u001b[0m \u001b[1;33m=\u001b[0m \u001b[0mparser\u001b[0m\u001b[1;33m.\u001b[0m\u001b[0mnextobject\u001b[0m\u001b[1;33m(\u001b[0m\u001b[1;33m)\u001b[0m\u001b[1;33m\u001b[0m\u001b[0m\n\u001b[0m\u001b[0;32m    194\u001b[0m             \u001b[1;32mif\u001b[0m \u001b[0misinstance\u001b[0m\u001b[1;33m(\u001b[0m\u001b[0mobj\u001b[0m\u001b[1;33m,\u001b[0m \u001b[0mPDFStream\u001b[0m\u001b[1;33m)\u001b[0m \u001b[1;32mand\u001b[0m \u001b[0mobj\u001b[0m\u001b[1;33m.\u001b[0m\u001b[0mget\u001b[0m\u001b[1;33m(\u001b[0m\u001b[1;34m'Type'\u001b[0m\u001b[1;33m)\u001b[0m \u001b[1;32mis\u001b[0m \u001b[0mLITERAL_OBJSTM\u001b[0m\u001b[1;33m:\u001b[0m\u001b[1;33m\u001b[0m\u001b[0m\n\u001b[0;32m    195\u001b[0m                 \u001b[0mstream\u001b[0m \u001b[1;33m=\u001b[0m \u001b[0mstream_value\u001b[0m\u001b[1;33m(\u001b[0m\u001b[0mobj\u001b[0m\u001b[1;33m)\u001b[0m\u001b[1;33m\u001b[0m\u001b[0m\n",
      "\u001b[1;32m~\\Anaconda3\\lib\\site-packages\\pdfminer\\psparser.py\u001b[0m in \u001b[0;36mnextobject\u001b[1;34m(self)\u001b[0m\n\u001b[0;32m    622\u001b[0m             \u001b[1;32melif\u001b[0m \u001b[0misinstance\u001b[0m\u001b[1;33m(\u001b[0m\u001b[0mtoken\u001b[0m\u001b[1;33m,\u001b[0m\u001b[0mPSKeyword\u001b[0m\u001b[1;33m)\u001b[0m\u001b[1;33m:\u001b[0m\u001b[1;33m\u001b[0m\u001b[0m\n\u001b[0;32m    623\u001b[0m                 \u001b[0mlogging\u001b[0m\u001b[1;33m.\u001b[0m\u001b[0mdebug\u001b[0m\u001b[1;33m(\u001b[0m\u001b[1;34m'do_keyword: pos=%r, token=%r, stack=%r'\u001b[0m\u001b[1;33m,\u001b[0m \u001b[0mpos\u001b[0m\u001b[1;33m,\u001b[0m \u001b[0mtoken\u001b[0m\u001b[1;33m,\u001b[0m \u001b[0mself\u001b[0m\u001b[1;33m.\u001b[0m\u001b[0mcurstack\u001b[0m\u001b[1;33m)\u001b[0m\u001b[1;33m\u001b[0m\u001b[0m\n\u001b[1;32m--> 624\u001b[1;33m                 \u001b[0mself\u001b[0m\u001b[1;33m.\u001b[0m\u001b[0mdo_keyword\u001b[0m\u001b[1;33m(\u001b[0m\u001b[0mpos\u001b[0m\u001b[1;33m,\u001b[0m \u001b[0mtoken\u001b[0m\u001b[1;33m)\u001b[0m\u001b[1;33m\u001b[0m\u001b[0m\n\u001b[0m\u001b[0;32m    625\u001b[0m             \u001b[1;32melse\u001b[0m\u001b[1;33m:\u001b[0m\u001b[1;33m\u001b[0m\u001b[0m\n\u001b[0;32m    626\u001b[0m                 \u001b[0mlogging\u001b[0m\u001b[1;33m.\u001b[0m\u001b[0merror\u001b[0m\u001b[1;33m(\u001b[0m\u001b[1;34m'unknown token: pos=%r, token=%r, stack=%r'\u001b[0m\u001b[1;33m,\u001b[0m \u001b[0mpos\u001b[0m\u001b[1;33m,\u001b[0m \u001b[0mtoken\u001b[0m\u001b[1;33m,\u001b[0m \u001b[0mself\u001b[0m\u001b[1;33m.\u001b[0m\u001b[0mcurstack\u001b[0m\u001b[1;33m)\u001b[0m\u001b[1;33m\u001b[0m\u001b[0m\n",
      "\u001b[1;32m~\\Anaconda3\\lib\\site-packages\\pdfminer\\pdfparser.py\u001b[0m in \u001b[0;36mdo_keyword\u001b[1;34m(self, pos, token)\u001b[0m\n\u001b[0;32m    118\u001b[0m                 \u001b[0mobjlen\u001b[0m \u001b[1;33m+=\u001b[0m \u001b[0mlen\u001b[0m\u001b[1;33m(\u001b[0m\u001b[0mline\u001b[0m\u001b[1;33m)\u001b[0m\u001b[1;33m\u001b[0m\u001b[0m\n\u001b[0;32m    119\u001b[0m                 \u001b[1;32mif\u001b[0m \u001b[0mself\u001b[0m\u001b[1;33m.\u001b[0m\u001b[0mfallback\u001b[0m\u001b[1;33m:\u001b[0m\u001b[1;33m\u001b[0m\u001b[0m\n\u001b[1;32m--> 120\u001b[1;33m                     \u001b[0mdata\u001b[0m \u001b[1;33m+=\u001b[0m \u001b[0mline\u001b[0m\u001b[1;33m\u001b[0m\u001b[0m\n\u001b[0m\u001b[0;32m    121\u001b[0m             \u001b[0mself\u001b[0m\u001b[1;33m.\u001b[0m\u001b[0mseek\u001b[0m\u001b[1;33m(\u001b[0m\u001b[0mpos\u001b[0m\u001b[1;33m+\u001b[0m\u001b[0mobjlen\u001b[0m\u001b[1;33m)\u001b[0m\u001b[1;33m\u001b[0m\u001b[0m\n\u001b[0;32m    122\u001b[0m             \u001b[1;31m# XXX limit objlen not to exceed object boundary\u001b[0m\u001b[1;33m\u001b[0m\u001b[1;33m\u001b[0m\u001b[0m\n",
      "\u001b[1;31mKeyboardInterrupt\u001b[0m: "
     ]
    }
   ],
   "source": [
    "is_fillable_pdf('temp/temp.pdf')"
   ]
  },
  {
   "cell_type": "code",
   "execution_count": 62,
   "metadata": {
    "collapsed": true
   },
   "outputs": [],
   "source": []
  },
  {
   "cell_type": "code",
   "execution_count": 4,
   "metadata": {
    "scrolled": true
   },
   "outputs": [
    {
     "data": {
      "text/html": [
       "<div>\n",
       "<style>\n",
       "    .dataframe thead tr:only-child th {\n",
       "        text-align: right;\n",
       "    }\n",
       "\n",
       "    .dataframe thead th {\n",
       "        text-align: left;\n",
       "    }\n",
       "\n",
       "    .dataframe tbody tr th {\n",
       "        vertical-align: top;\n",
       "    }\n",
       "</style>\n",
       "<table border=\"1\" class=\"dataframe\">\n",
       "  <thead>\n",
       "    <tr style=\"text-align: right;\">\n",
       "      <th></th>\n",
       "      <th>dept</th>\n",
       "      <th>from_url</th>\n",
       "      <th>pdf_url</th>\n",
       "    </tr>\n",
       "  </thead>\n",
       "  <tbody>\n",
       "    <tr>\n",
       "      <th>0</th>\n",
       "      <td>311 City Services</td>\n",
       "      <td>https://www.cityofchicago.org/city/en/depts/31...</td>\n",
       "      <td>https://www.cityofchicago.org/content/dam/city...</td>\n",
       "    </tr>\n",
       "    <tr>\n",
       "      <th>1</th>\n",
       "      <td>Emergency Management &amp; Communications</td>\n",
       "      <td>https://www.cityofchicago.org/city/en/depts/oe...</td>\n",
       "      <td>https://www.cityofchicago.org/content/dam/city...</td>\n",
       "    </tr>\n",
       "    <tr>\n",
       "      <th>2</th>\n",
       "      <td>Department of Human Resources</td>\n",
       "      <td>https://www.cityofchicago.org/city/en/depts/dh...</td>\n",
       "      <td>https://www.cityofchicago.org/content/dam/city...</td>\n",
       "    </tr>\n",
       "    <tr>\n",
       "      <th>3</th>\n",
       "      <td>Department of Human Resources</td>\n",
       "      <td>https://www.cityofchicago.org/city/en/depts/dh...</td>\n",
       "      <td>https://www.cityofchicago.org/content/dam/city...</td>\n",
       "    </tr>\n",
       "    <tr>\n",
       "      <th>4</th>\n",
       "      <td>Department of Human Resources</td>\n",
       "      <td>https://www.cityofchicago.org/city/en/depts/dh...</td>\n",
       "      <td>https://www.cityofchicago.org/content/dam/city...</td>\n",
       "    </tr>\n",
       "    <tr>\n",
       "      <th>5</th>\n",
       "      <td>Department of Human Resources</td>\n",
       "      <td>https://www.cityofchicago.org/city/en/depts/dh...</td>\n",
       "      <td>https://www.cityofchicago.org/content/dam/city...</td>\n",
       "    </tr>\n",
       "    <tr>\n",
       "      <th>6</th>\n",
       "      <td>Department of Human Resources</td>\n",
       "      <td>https://www.cityofchicago.org/city/en/depts/dh...</td>\n",
       "      <td>https://www.cityofchicago.org/content/dam/city...</td>\n",
       "    </tr>\n",
       "    <tr>\n",
       "      <th>7</th>\n",
       "      <td>Department of Human Resources</td>\n",
       "      <td>https://www.cityofchicago.org/city/en/depts/dh...</td>\n",
       "      <td>https://www.cityofchicago.org/content/dam/city...</td>\n",
       "    </tr>\n",
       "    <tr>\n",
       "      <th>8</th>\n",
       "      <td>Department of Human Resources</td>\n",
       "      <td>https://www.cityofchicago.org/city/en/depts/dh...</td>\n",
       "      <td>https://www.cityofchicago.org/content/dam/city...</td>\n",
       "    </tr>\n",
       "    <tr>\n",
       "      <th>9</th>\n",
       "      <td>Department of Human Resources</td>\n",
       "      <td>https://www.cityofchicago.org/city/en/depts/dh...</td>\n",
       "      <td>https://www.cityofchicago.org/content/dam/city...</td>\n",
       "    </tr>\n",
       "    <tr>\n",
       "      <th>10</th>\n",
       "      <td>Department of Human Resources</td>\n",
       "      <td>https://www.cityofchicago.org/city/en/depts/dh...</td>\n",
       "      <td>https://www.cityofchicago.org/content/dam/city...</td>\n",
       "    </tr>\n",
       "    <tr>\n",
       "      <th>11</th>\n",
       "      <td>Department of Human Resources</td>\n",
       "      <td>https://www.cityofchicago.org/city/en/depts/dh...</td>\n",
       "      <td>https://www.cityofchicago.org/content/dam/city...</td>\n",
       "    </tr>\n",
       "    <tr>\n",
       "      <th>12</th>\n",
       "      <td>Department of Human Resources</td>\n",
       "      <td>https://www.cityofchicago.org/city/en/depts/dh...</td>\n",
       "      <td>https://www.cityofchicago.org/content/dam/city...</td>\n",
       "    </tr>\n",
       "    <tr>\n",
       "      <th>13</th>\n",
       "      <td>Department of Human Resources</td>\n",
       "      <td>https://www.cityofchicago.org/city/en/depts/dh...</td>\n",
       "      <td>https://www.cityofchicago.org/content/dam/city...</td>\n",
       "    </tr>\n",
       "    <tr>\n",
       "      <th>14</th>\n",
       "      <td>Department of Human Resources</td>\n",
       "      <td>https://www.cityofchicago.org/city/en/depts/dh...</td>\n",
       "      <td>https://www.cityofchicago.org/content/dam/city...</td>\n",
       "    </tr>\n",
       "    <tr>\n",
       "      <th>15</th>\n",
       "      <td>Department of Human Resources</td>\n",
       "      <td>https://www.cityofchicago.org/city/en/depts/dh...</td>\n",
       "      <td>https://www.cityofchicago.org/content/dam/city...</td>\n",
       "    </tr>\n",
       "    <tr>\n",
       "      <th>16</th>\n",
       "      <td>Department of Human Resources</td>\n",
       "      <td>https://www.cityofchicago.org/city/en/depts/dh...</td>\n",
       "      <td>https://www.cityofchicago.org/content/dam/city...</td>\n",
       "    </tr>\n",
       "    <tr>\n",
       "      <th>17</th>\n",
       "      <td>Department of Human Resources</td>\n",
       "      <td>https://www.cityofchicago.org/city/en/depts/dh...</td>\n",
       "      <td>https://www.cityofchicago.org/content/dam/city...</td>\n",
       "    </tr>\n",
       "    <tr>\n",
       "      <th>18</th>\n",
       "      <td>Department of Human Resources</td>\n",
       "      <td>https://www.cityofchicago.org/city/en/depts/dh...</td>\n",
       "      <td>https://www.cityofchicago.org/content/dam/city...</td>\n",
       "    </tr>\n",
       "    <tr>\n",
       "      <th>19</th>\n",
       "      <td>Department of Human Resources</td>\n",
       "      <td>https://www.cityofchicago.org/city/en/depts/dh...</td>\n",
       "      <td>https://www.cityofchicago.org/content/dam/city...</td>\n",
       "    </tr>\n",
       "    <tr>\n",
       "      <th>20</th>\n",
       "      <td>Department of Human Resources</td>\n",
       "      <td>https://www.cityofchicago.org/city/en/depts/dh...</td>\n",
       "      <td>https://www.cityofchicago.org/content/dam/city...</td>\n",
       "    </tr>\n",
       "    <tr>\n",
       "      <th>21</th>\n",
       "      <td>Department of Human Resources</td>\n",
       "      <td>https://www.cityofchicago.org/city/en/depts/dh...</td>\n",
       "      <td>https://www.cityofchicago.org/content/dam/city...</td>\n",
       "    </tr>\n",
       "    <tr>\n",
       "      <th>22</th>\n",
       "      <td>Department of Human Resources</td>\n",
       "      <td>https://www.cityofchicago.org/city/en/depts/dh...</td>\n",
       "      <td>https://www.cityofchicago.org/content/dam/city...</td>\n",
       "    </tr>\n",
       "    <tr>\n",
       "      <th>23</th>\n",
       "      <td>Department of Human Resources</td>\n",
       "      <td>https://www.cityofchicago.org/city/en/depts/dh...</td>\n",
       "      <td>https://www.cityofchicago.org/content/dam/city...</td>\n",
       "    </tr>\n",
       "    <tr>\n",
       "      <th>24</th>\n",
       "      <td>Department of Human Resources</td>\n",
       "      <td>https://www.cityofchicago.org/city/en/depts/dh...</td>\n",
       "      <td>https://www.cityofchicago.org/content/dam/city...</td>\n",
       "    </tr>\n",
       "    <tr>\n",
       "      <th>25</th>\n",
       "      <td>Department of Human Resources</td>\n",
       "      <td>https://www.cityofchicago.org/city/en/depts/dh...</td>\n",
       "      <td>https://www.cityofchicago.org/content/dam/city...</td>\n",
       "    </tr>\n",
       "    <tr>\n",
       "      <th>26</th>\n",
       "      <td>Department of Human Resources</td>\n",
       "      <td>https://www.cityofchicago.org/city/en/depts/dh...</td>\n",
       "      <td>https://www.cityofchicago.org/content/dam/city...</td>\n",
       "    </tr>\n",
       "    <tr>\n",
       "      <th>27</th>\n",
       "      <td>Department of Human Resources</td>\n",
       "      <td>https://www.cityofchicago.org/city/en/depts/dh...</td>\n",
       "      <td>https://www.cityofchicago.org/content/dam/city...</td>\n",
       "    </tr>\n",
       "    <tr>\n",
       "      <th>28</th>\n",
       "      <td>Department of Human Resources</td>\n",
       "      <td>https://www.cityofchicago.org/city/en/depts/dh...</td>\n",
       "      <td>https://www.cityofchicago.org/content/dam/city...</td>\n",
       "    </tr>\n",
       "    <tr>\n",
       "      <th>29</th>\n",
       "      <td>Department of Human Resources</td>\n",
       "      <td>https://www.cityofchicago.org/city/en/depts/dh...</td>\n",
       "      <td>https://www.cityofchicago.org/content/dam/city...</td>\n",
       "    </tr>\n",
       "    <tr>\n",
       "      <th>...</th>\n",
       "      <td>...</td>\n",
       "      <td>...</td>\n",
       "      <td>...</td>\n",
       "    </tr>\n",
       "    <tr>\n",
       "      <th>27770</th>\n",
       "      <td>None</td>\n",
       "      <td>http://climatechange.cityofchicago.org/climate...</td>\n",
       "      <td>http://climatechange.cityofchicago.org/sites/p...</td>\n",
       "    </tr>\n",
       "    <tr>\n",
       "      <th>27771</th>\n",
       "      <td>None</td>\n",
       "      <td>http://climatechange.cityofchicago.org/climate...</td>\n",
       "      <td>http://climatechange.cityofchicago.org/sites/p...</td>\n",
       "    </tr>\n",
       "    <tr>\n",
       "      <th>27772</th>\n",
       "      <td>None</td>\n",
       "      <td>http://climatechange.cityofchicago.org/climate...</td>\n",
       "      <td>http://climatechange.cityofchicago.org/sites/p...</td>\n",
       "    </tr>\n",
       "    <tr>\n",
       "      <th>27773</th>\n",
       "      <td>None</td>\n",
       "      <td>http://climatechange.cityofchicago.org/climate...</td>\n",
       "      <td>http://climatechange.cityofchicago.org/sites/p...</td>\n",
       "    </tr>\n",
       "    <tr>\n",
       "      <th>27774</th>\n",
       "      <td>None</td>\n",
       "      <td>http://climatechange.cityofchicago.org/climate...</td>\n",
       "      <td>http://climatechange.cityofchicago.org/sites/p...</td>\n",
       "    </tr>\n",
       "    <tr>\n",
       "      <th>27775</th>\n",
       "      <td>None</td>\n",
       "      <td>http://climatechange.cityofchicago.org/climate...</td>\n",
       "      <td>http://climatechange.cityofchicago.org/sites/p...</td>\n",
       "    </tr>\n",
       "    <tr>\n",
       "      <th>27776</th>\n",
       "      <td>None</td>\n",
       "      <td>http://climatechange.cityofchicago.org/climate...</td>\n",
       "      <td>http://climatechange.cityofchicago.org/sites/p...</td>\n",
       "    </tr>\n",
       "    <tr>\n",
       "      <th>27777</th>\n",
       "      <td>None</td>\n",
       "      <td>http://climatechange.cityofchicago.org/climate...</td>\n",
       "      <td>http://climatechange.cityofchicago.org/sites/p...</td>\n",
       "    </tr>\n",
       "    <tr>\n",
       "      <th>27778</th>\n",
       "      <td>None</td>\n",
       "      <td>http://climatechange.cityofchicago.org/climate...</td>\n",
       "      <td>http://climatechange.cityofchicago.org/sites/p...</td>\n",
       "    </tr>\n",
       "    <tr>\n",
       "      <th>27779</th>\n",
       "      <td>None</td>\n",
       "      <td>http://climatechange.cityofchicago.org/climate...</td>\n",
       "      <td>http://climatechange.cityofchicago.org/sites/p...</td>\n",
       "    </tr>\n",
       "    <tr>\n",
       "      <th>27780</th>\n",
       "      <td>None</td>\n",
       "      <td>http://climatechange.cityofchicago.org/climate...</td>\n",
       "      <td>http://climatechange.cityofchicago.org/sites/p...</td>\n",
       "    </tr>\n",
       "    <tr>\n",
       "      <th>27781</th>\n",
       "      <td>None</td>\n",
       "      <td>http://climatechange.cityofchicago.org/climate...</td>\n",
       "      <td>http://climatechange.cityofchicago.org/sites/p...</td>\n",
       "    </tr>\n",
       "    <tr>\n",
       "      <th>27782</th>\n",
       "      <td>None</td>\n",
       "      <td>http://climatechange.cityofchicago.org/climate...</td>\n",
       "      <td>http://climatechange.cityofchicago.org/sites/p...</td>\n",
       "    </tr>\n",
       "    <tr>\n",
       "      <th>27783</th>\n",
       "      <td>None</td>\n",
       "      <td>http://climatechange.cityofchicago.org/climate...</td>\n",
       "      <td>http://climatechange.cityofchicago.org/sites/p...</td>\n",
       "    </tr>\n",
       "    <tr>\n",
       "      <th>27784</th>\n",
       "      <td>None</td>\n",
       "      <td>http://climatechange.cityofchicago.org/climate...</td>\n",
       "      <td>http://climatechange.cityofchicago.org/sites/p...</td>\n",
       "    </tr>\n",
       "    <tr>\n",
       "      <th>27785</th>\n",
       "      <td>None</td>\n",
       "      <td>http://climatechange.cityofchicago.org/climate...</td>\n",
       "      <td>http://climatechange.cityofchicago.org/sites/p...</td>\n",
       "    </tr>\n",
       "    <tr>\n",
       "      <th>27786</th>\n",
       "      <td>None</td>\n",
       "      <td>http://climatechange.cityofchicago.org/climate...</td>\n",
       "      <td>http://climatechange.cityofchicago.org/sites/p...</td>\n",
       "    </tr>\n",
       "    <tr>\n",
       "      <th>27787</th>\n",
       "      <td>None</td>\n",
       "      <td>http://climatechange.cityofchicago.org/climate...</td>\n",
       "      <td>http://climatechange.cityofchicago.org/sites/p...</td>\n",
       "    </tr>\n",
       "    <tr>\n",
       "      <th>27788</th>\n",
       "      <td>None</td>\n",
       "      <td>http://climatechange.cityofchicago.org/climate...</td>\n",
       "      <td>http://climatechange.cityofchicago.org/sites/p...</td>\n",
       "    </tr>\n",
       "    <tr>\n",
       "      <th>27789</th>\n",
       "      <td>None</td>\n",
       "      <td>http://climatechange.cityofchicago.org/climate...</td>\n",
       "      <td>http://climatechange.cityofchicago.org/sites/p...</td>\n",
       "    </tr>\n",
       "    <tr>\n",
       "      <th>27790</th>\n",
       "      <td>None</td>\n",
       "      <td>http://climatechange.cityofchicago.org/climate...</td>\n",
       "      <td>http://climatechange.cityofchicago.org/sites/p...</td>\n",
       "    </tr>\n",
       "    <tr>\n",
       "      <th>27791</th>\n",
       "      <td>None</td>\n",
       "      <td>http://climatechange.cityofchicago.org/climate...</td>\n",
       "      <td>http://climatechange.cityofchicago.org/sites/p...</td>\n",
       "    </tr>\n",
       "    <tr>\n",
       "      <th>27792</th>\n",
       "      <td>None</td>\n",
       "      <td>http://climatechange.cityofchicago.org/climate...</td>\n",
       "      <td>http://climatechange.cityofchicago.org/sites/p...</td>\n",
       "    </tr>\n",
       "    <tr>\n",
       "      <th>27793</th>\n",
       "      <td>None</td>\n",
       "      <td>http://climatechange.cityofchicago.org/climate...</td>\n",
       "      <td>http://climatechange.cityofchicago.org/sites/p...</td>\n",
       "    </tr>\n",
       "    <tr>\n",
       "      <th>27794</th>\n",
       "      <td>None</td>\n",
       "      <td>http://climatechange.cityofchicago.org/climate...</td>\n",
       "      <td>http://climatechange.cityofchicago.org/sites/p...</td>\n",
       "    </tr>\n",
       "    <tr>\n",
       "      <th>27795</th>\n",
       "      <td>None</td>\n",
       "      <td>http://climatechange.cityofchicago.org/climate...</td>\n",
       "      <td>http://climatechange.cityofchicago.org/sites/p...</td>\n",
       "    </tr>\n",
       "    <tr>\n",
       "      <th>27796</th>\n",
       "      <td>None</td>\n",
       "      <td>http://climatechange.cityofchicago.org/climate...</td>\n",
       "      <td>http://climatechange.cityofchicago.org/sites/p...</td>\n",
       "    </tr>\n",
       "    <tr>\n",
       "      <th>27797</th>\n",
       "      <td>None</td>\n",
       "      <td>http://climatechange.cityofchicago.org/climate...</td>\n",
       "      <td>http://climatechange.cityofchicago.org/sites/p...</td>\n",
       "    </tr>\n",
       "    <tr>\n",
       "      <th>27798</th>\n",
       "      <td>None</td>\n",
       "      <td>http://climatechange.cityofchicago.org/climate...</td>\n",
       "      <td>http://climatechange.cityofchicago.org/sites/p...</td>\n",
       "    </tr>\n",
       "    <tr>\n",
       "      <th>27799</th>\n",
       "      <td>None</td>\n",
       "      <td>http://climatechange.cityofchicago.org/climate...</td>\n",
       "      <td>http://climatechange.cityofchicago.org/sites/p...</td>\n",
       "    </tr>\n",
       "  </tbody>\n",
       "</table>\n",
       "<p>27800 rows × 3 columns</p>\n",
       "</div>"
      ],
      "text/plain": [
       "                                        dept  \\\n",
       "0                          311 City Services   \n",
       "1      Emergency Management & Communications   \n",
       "2              Department of Human Resources   \n",
       "3              Department of Human Resources   \n",
       "4              Department of Human Resources   \n",
       "5              Department of Human Resources   \n",
       "6              Department of Human Resources   \n",
       "7              Department of Human Resources   \n",
       "8              Department of Human Resources   \n",
       "9              Department of Human Resources   \n",
       "10             Department of Human Resources   \n",
       "11             Department of Human Resources   \n",
       "12             Department of Human Resources   \n",
       "13             Department of Human Resources   \n",
       "14             Department of Human Resources   \n",
       "15             Department of Human Resources   \n",
       "16             Department of Human Resources   \n",
       "17             Department of Human Resources   \n",
       "18             Department of Human Resources   \n",
       "19             Department of Human Resources   \n",
       "20             Department of Human Resources   \n",
       "21             Department of Human Resources   \n",
       "22             Department of Human Resources   \n",
       "23             Department of Human Resources   \n",
       "24             Department of Human Resources   \n",
       "25             Department of Human Resources   \n",
       "26             Department of Human Resources   \n",
       "27             Department of Human Resources   \n",
       "28             Department of Human Resources   \n",
       "29             Department of Human Resources   \n",
       "...                                      ...   \n",
       "27770                                   None   \n",
       "27771                                   None   \n",
       "27772                                   None   \n",
       "27773                                   None   \n",
       "27774                                   None   \n",
       "27775                                   None   \n",
       "27776                                   None   \n",
       "27777                                   None   \n",
       "27778                                   None   \n",
       "27779                                   None   \n",
       "27780                                   None   \n",
       "27781                                   None   \n",
       "27782                                   None   \n",
       "27783                                   None   \n",
       "27784                                   None   \n",
       "27785                                   None   \n",
       "27786                                   None   \n",
       "27787                                   None   \n",
       "27788                                   None   \n",
       "27789                                   None   \n",
       "27790                                   None   \n",
       "27791                                   None   \n",
       "27792                                   None   \n",
       "27793                                   None   \n",
       "27794                                   None   \n",
       "27795                                   None   \n",
       "27796                                   None   \n",
       "27797                                   None   \n",
       "27798                                   None   \n",
       "27799                                   None   \n",
       "\n",
       "                                                from_url  \\\n",
       "0      https://www.cityofchicago.org/city/en/depts/31...   \n",
       "1      https://www.cityofchicago.org/city/en/depts/oe...   \n",
       "2      https://www.cityofchicago.org/city/en/depts/dh...   \n",
       "3      https://www.cityofchicago.org/city/en/depts/dh...   \n",
       "4      https://www.cityofchicago.org/city/en/depts/dh...   \n",
       "5      https://www.cityofchicago.org/city/en/depts/dh...   \n",
       "6      https://www.cityofchicago.org/city/en/depts/dh...   \n",
       "7      https://www.cityofchicago.org/city/en/depts/dh...   \n",
       "8      https://www.cityofchicago.org/city/en/depts/dh...   \n",
       "9      https://www.cityofchicago.org/city/en/depts/dh...   \n",
       "10     https://www.cityofchicago.org/city/en/depts/dh...   \n",
       "11     https://www.cityofchicago.org/city/en/depts/dh...   \n",
       "12     https://www.cityofchicago.org/city/en/depts/dh...   \n",
       "13     https://www.cityofchicago.org/city/en/depts/dh...   \n",
       "14     https://www.cityofchicago.org/city/en/depts/dh...   \n",
       "15     https://www.cityofchicago.org/city/en/depts/dh...   \n",
       "16     https://www.cityofchicago.org/city/en/depts/dh...   \n",
       "17     https://www.cityofchicago.org/city/en/depts/dh...   \n",
       "18     https://www.cityofchicago.org/city/en/depts/dh...   \n",
       "19     https://www.cityofchicago.org/city/en/depts/dh...   \n",
       "20     https://www.cityofchicago.org/city/en/depts/dh...   \n",
       "21     https://www.cityofchicago.org/city/en/depts/dh...   \n",
       "22     https://www.cityofchicago.org/city/en/depts/dh...   \n",
       "23     https://www.cityofchicago.org/city/en/depts/dh...   \n",
       "24     https://www.cityofchicago.org/city/en/depts/dh...   \n",
       "25     https://www.cityofchicago.org/city/en/depts/dh...   \n",
       "26     https://www.cityofchicago.org/city/en/depts/dh...   \n",
       "27     https://www.cityofchicago.org/city/en/depts/dh...   \n",
       "28     https://www.cityofchicago.org/city/en/depts/dh...   \n",
       "29     https://www.cityofchicago.org/city/en/depts/dh...   \n",
       "...                                                  ...   \n",
       "27770  http://climatechange.cityofchicago.org/climate...   \n",
       "27771  http://climatechange.cityofchicago.org/climate...   \n",
       "27772  http://climatechange.cityofchicago.org/climate...   \n",
       "27773  http://climatechange.cityofchicago.org/climate...   \n",
       "27774  http://climatechange.cityofchicago.org/climate...   \n",
       "27775  http://climatechange.cityofchicago.org/climate...   \n",
       "27776  http://climatechange.cityofchicago.org/climate...   \n",
       "27777  http://climatechange.cityofchicago.org/climate...   \n",
       "27778  http://climatechange.cityofchicago.org/climate...   \n",
       "27779  http://climatechange.cityofchicago.org/climate...   \n",
       "27780  http://climatechange.cityofchicago.org/climate...   \n",
       "27781  http://climatechange.cityofchicago.org/climate...   \n",
       "27782  http://climatechange.cityofchicago.org/climate...   \n",
       "27783  http://climatechange.cityofchicago.org/climate...   \n",
       "27784  http://climatechange.cityofchicago.org/climate...   \n",
       "27785  http://climatechange.cityofchicago.org/climate...   \n",
       "27786  http://climatechange.cityofchicago.org/climate...   \n",
       "27787  http://climatechange.cityofchicago.org/climate...   \n",
       "27788  http://climatechange.cityofchicago.org/climate...   \n",
       "27789  http://climatechange.cityofchicago.org/climate...   \n",
       "27790  http://climatechange.cityofchicago.org/climate...   \n",
       "27791  http://climatechange.cityofchicago.org/climate...   \n",
       "27792  http://climatechange.cityofchicago.org/climate...   \n",
       "27793  http://climatechange.cityofchicago.org/climate...   \n",
       "27794  http://climatechange.cityofchicago.org/climate...   \n",
       "27795  http://climatechange.cityofchicago.org/climate...   \n",
       "27796  http://climatechange.cityofchicago.org/climate...   \n",
       "27797  http://climatechange.cityofchicago.org/climate...   \n",
       "27798  http://climatechange.cityofchicago.org/climate...   \n",
       "27799  http://climatechange.cityofchicago.org/climate...   \n",
       "\n",
       "                                                 pdf_url  \n",
       "0      https://www.cityofchicago.org/content/dam/city...  \n",
       "1      https://www.cityofchicago.org/content/dam/city...  \n",
       "2      https://www.cityofchicago.org/content/dam/city...  \n",
       "3      https://www.cityofchicago.org/content/dam/city...  \n",
       "4      https://www.cityofchicago.org/content/dam/city...  \n",
       "5      https://www.cityofchicago.org/content/dam/city...  \n",
       "6      https://www.cityofchicago.org/content/dam/city...  \n",
       "7      https://www.cityofchicago.org/content/dam/city...  \n",
       "8      https://www.cityofchicago.org/content/dam/city...  \n",
       "9      https://www.cityofchicago.org/content/dam/city...  \n",
       "10     https://www.cityofchicago.org/content/dam/city...  \n",
       "11     https://www.cityofchicago.org/content/dam/city...  \n",
       "12     https://www.cityofchicago.org/content/dam/city...  \n",
       "13     https://www.cityofchicago.org/content/dam/city...  \n",
       "14     https://www.cityofchicago.org/content/dam/city...  \n",
       "15     https://www.cityofchicago.org/content/dam/city...  \n",
       "16     https://www.cityofchicago.org/content/dam/city...  \n",
       "17     https://www.cityofchicago.org/content/dam/city...  \n",
       "18     https://www.cityofchicago.org/content/dam/city...  \n",
       "19     https://www.cityofchicago.org/content/dam/city...  \n",
       "20     https://www.cityofchicago.org/content/dam/city...  \n",
       "21     https://www.cityofchicago.org/content/dam/city...  \n",
       "22     https://www.cityofchicago.org/content/dam/city...  \n",
       "23     https://www.cityofchicago.org/content/dam/city...  \n",
       "24     https://www.cityofchicago.org/content/dam/city...  \n",
       "25     https://www.cityofchicago.org/content/dam/city...  \n",
       "26     https://www.cityofchicago.org/content/dam/city...  \n",
       "27     https://www.cityofchicago.org/content/dam/city...  \n",
       "28     https://www.cityofchicago.org/content/dam/city...  \n",
       "29     https://www.cityofchicago.org/content/dam/city...  \n",
       "...                                                  ...  \n",
       "27770  http://climatechange.cityofchicago.org/sites/p...  \n",
       "27771  http://climatechange.cityofchicago.org/sites/p...  \n",
       "27772  http://climatechange.cityofchicago.org/sites/p...  \n",
       "27773  http://climatechange.cityofchicago.org/sites/p...  \n",
       "27774  http://climatechange.cityofchicago.org/sites/p...  \n",
       "27775  http://climatechange.cityofchicago.org/sites/p...  \n",
       "27776  http://climatechange.cityofchicago.org/sites/p...  \n",
       "27777  http://climatechange.cityofchicago.org/sites/p...  \n",
       "27778  http://climatechange.cityofchicago.org/sites/p...  \n",
       "27779  http://climatechange.cityofchicago.org/sites/p...  \n",
       "27780  http://climatechange.cityofchicago.org/sites/p...  \n",
       "27781  http://climatechange.cityofchicago.org/sites/p...  \n",
       "27782  http://climatechange.cityofchicago.org/sites/p...  \n",
       "27783  http://climatechange.cityofchicago.org/sites/p...  \n",
       "27784  http://climatechange.cityofchicago.org/sites/p...  \n",
       "27785  http://climatechange.cityofchicago.org/sites/p...  \n",
       "27786  http://climatechange.cityofchicago.org/sites/p...  \n",
       "27787  http://climatechange.cityofchicago.org/sites/p...  \n",
       "27788  http://climatechange.cityofchicago.org/sites/p...  \n",
       "27789  http://climatechange.cityofchicago.org/sites/p...  \n",
       "27790  http://climatechange.cityofchicago.org/sites/p...  \n",
       "27791  http://climatechange.cityofchicago.org/sites/p...  \n",
       "27792  http://climatechange.cityofchicago.org/sites/p...  \n",
       "27793  http://climatechange.cityofchicago.org/sites/p...  \n",
       "27794  http://climatechange.cityofchicago.org/sites/p...  \n",
       "27795  http://climatechange.cityofchicago.org/sites/p...  \n",
       "27796  http://climatechange.cityofchicago.org/sites/p...  \n",
       "27797  http://climatechange.cityofchicago.org/sites/p...  \n",
       "27798  http://climatechange.cityofchicago.org/sites/p...  \n",
       "27799  http://climatechange.cityofchicago.org/sites/p...  \n",
       "\n",
       "[27800 rows x 3 columns]"
      ]
     },
     "execution_count": 4,
     "metadata": {},
     "output_type": "execute_result"
    }
   ],
   "source": [
    "all_pdfs = pdf_file_to_df('all_Chicago_pdfs_nodups.csv')\n",
    "all_pdfs"
   ]
  },
  {
   "cell_type": "code",
   "execution_count": null,
   "metadata": {
    "collapsed": true
   },
   "outputs": [],
   "source": []
  },
  {
   "cell_type": "code",
   "execution_count": null,
   "metadata": {},
   "outputs": [],
   "source": []
  },
  {
   "cell_type": "code",
   "execution_count": 8,
   "metadata": {},
   "outputs": [
    {
     "name": "stdout",
     "output_type": "stream",
     "text": [
      "<urlopen error [Errno 11001] getaddrinfo failed>\n"
     ]
    },
    {
     "data": {
      "text/plain": [
       "'Failed'"
      ]
     },
     "execution_count": 8,
     "metadata": {},
     "output_type": "execute_result"
    }
   ],
   "source": [
    "url = 'https://www.cityofchicjago.org/content/dam/city/depts/311/general/NewOpen311InformationChart.pdf'\n",
    "download_pdf(url, temp=True)"
   ]
  },
  {
   "cell_type": "code",
   "execution_count": 5,
   "metadata": {
    "collapsed": true
   },
   "outputs": [],
   "source": [
    "subset = all_pdfs[(all_pdfs['dept'] == 'Department of Finance') | (all_pdfs['dept'] == 'Department of Business Affairs and Consumer Protection')]"
   ]
  },
  {
   "cell_type": "code",
   "execution_count": null,
   "metadata": {
    "collapsed": true,
    "scrolled": false
   },
   "outputs": [],
   "source": [
    "%time assess_pdfs(subset, 'pdf_url', maxpages = 0, sample_base = 5, random_sample_size = 10)"
   ]
  },
  {
   "cell_type": "code",
   "execution_count": 10,
   "metadata": {},
   "outputs": [
    {
     "name": "stdout",
     "output_type": "stream",
     "text": [
      "Now on: https://www.cityofchicago.org/content/dam/city/depts/bacp/Consumer%20Information/webcmiflyer20141126.pdf\n",
      "DL: Success\n"
     ]
    },
    {
     "ename": "KeyboardInterrupt",
     "evalue": "",
     "output_type": "error",
     "traceback": [
      "\u001b[1;31m---------------------------------------------------------------------------\u001b[0m",
      "\u001b[1;31mKeyboardInterrupt\u001b[0m                         Traceback (most recent call last)",
      "\u001b[1;32m<ipython-input-10-ef58818940be>\u001b[0m in \u001b[0;36m<module>\u001b[1;34m()\u001b[0m\n\u001b[1;32m----> 1\u001b[1;33m \u001b[0mdownload_and_scrape_pdf\u001b[0m\u001b[1;33m(\u001b[0m\u001b[1;34m'https://www.cityofchicago.org/content/dam/city/depts/bacp/Consumer%20Information/webcmiflyer20141126.pdf'\u001b[0m\u001b[1;33m)\u001b[0m\u001b[1;33m\u001b[0m\u001b[0m\n\u001b[0m",
      "\u001b[1;32m~\\Desktop\\ChiPDFs\\pdf_scrape.py\u001b[0m in \u001b[0;36mdownload_and_scrape_pdf\u001b[1;34m(url, maxpages, sample_base, random_sample_size)\u001b[0m\n\u001b[0;32m    103\u001b[0m     \u001b[0mprint\u001b[0m\u001b[1;33m(\u001b[0m\u001b[1;34m\"DL:\"\u001b[0m\u001b[1;33m,\u001b[0m \u001b[0mdownload_status\u001b[0m\u001b[1;33m)\u001b[0m\u001b[1;33m\u001b[0m\u001b[0m\n\u001b[0;32m    104\u001b[0m     \u001b[1;32mif\u001b[0m \u001b[0mdownload_status\u001b[0m \u001b[1;32min\u001b[0m \u001b[1;33m[\u001b[0m\u001b[1;34m'Failed'\u001b[0m\u001b[1;33m,\u001b[0m \u001b[1;34m'Not a PDF'\u001b[0m\u001b[1;33m]\u001b[0m\u001b[1;33m:\u001b[0m\u001b[1;33m\u001b[0m\u001b[0m\n\u001b[1;32m--> 105\u001b[1;33m         \u001b[1;32mreturn\u001b[0m \u001b[1;34m'Download Failed'\u001b[0m\u001b[1;33m\u001b[0m\u001b[0m\n\u001b[0m\u001b[0;32m    106\u001b[0m     \u001b[0mtext\u001b[0m \u001b[1;33m=\u001b[0m \u001b[0mconvert_pdf_to_txt\u001b[0m\u001b[1;33m(\u001b[0m\u001b[1;34m'./temp/temp.pdf'\u001b[0m\u001b[1;33m,\u001b[0m \u001b[0mmaxpages\u001b[0m\u001b[1;33m,\u001b[0m \u001b[0msample_base\u001b[0m\u001b[1;33m,\u001b[0m \u001b[0mrandom_sample_size\u001b[0m\u001b[1;33m)\u001b[0m\u001b[1;33m\u001b[0m\u001b[0m\n\u001b[0;32m    107\u001b[0m     \u001b[1;32mif\u001b[0m \u001b[0mtext\u001b[0m \u001b[1;33m==\u001b[0m \u001b[1;34m'Failed'\u001b[0m\u001b[1;33m:\u001b[0m\u001b[1;33m\u001b[0m\u001b[0m\n",
      "\u001b[1;32m~\\Desktop\\ChiPDFs\\pdf_scrape.py\u001b[0m in \u001b[0;36mconvert_pdf_to_txt\u001b[1;34m(path, maxpages, sample_base, random_sample_size)\u001b[0m\n\u001b[0;32m     39\u001b[0m         \u001b[0mpassword\u001b[0m \u001b[1;33m=\u001b[0m \u001b[1;34m\"\"\u001b[0m\u001b[1;33m\u001b[0m\u001b[0m\n\u001b[0;32m     40\u001b[0m         \u001b[0mcaching\u001b[0m \u001b[1;33m=\u001b[0m \u001b[1;32mTrue\u001b[0m\u001b[1;33m\u001b[0m\u001b[0m\n\u001b[1;32m---> 41\u001b[1;33m         \u001b[0mpagenos\u001b[0m \u001b[1;33m=\u001b[0m \u001b[0mset\u001b[0m\u001b[1;33m(\u001b[0m\u001b[1;33m)\u001b[0m\u001b[1;33m\u001b[0m\u001b[0m\n\u001b[0m\u001b[0;32m     42\u001b[0m         \u001b[0mnumpages\u001b[0m \u001b[1;33m=\u001b[0m \u001b[0mpdf_num_pages\u001b[0m\u001b[1;33m(\u001b[0m\u001b[0mfp\u001b[0m\u001b[1;33m)\u001b[0m\u001b[1;33m\u001b[0m\u001b[0m\n\u001b[0;32m     43\u001b[0m \u001b[1;33m\u001b[0m\u001b[0m\n",
      "\u001b[1;32m~\\Desktop\\ChiPDFs\\pdf_scrape.py\u001b[0m in \u001b[0;36mpdf_num_pages\u001b[1;34m(open_pdf, path)\u001b[0m\n\u001b[0;32m     18\u001b[0m                 \u001b[1;32mif\u001b[0m \u001b[0mpath\u001b[0m\u001b[1;33m:\u001b[0m\u001b[1;33m\u001b[0m\u001b[0m\n\u001b[0;32m     19\u001b[0m                         \u001b[0mopen_pdf\u001b[0m \u001b[1;33m=\u001b[0m \u001b[0mopen\u001b[0m\u001b[1;33m(\u001b[0m\u001b[0mpath\u001b[0m\u001b[1;33m,\u001b[0m \u001b[1;34m'rb'\u001b[0m\u001b[1;33m)\u001b[0m\u001b[1;33m\u001b[0m\u001b[0m\n\u001b[1;32m---> 20\u001b[1;33m                 \u001b[0mparser\u001b[0m \u001b[1;33m=\u001b[0m \u001b[0mPDFParser\u001b[0m\u001b[1;33m(\u001b[0m\u001b[0mopen_pdf\u001b[0m\u001b[1;33m)\u001b[0m\u001b[1;33m\u001b[0m\u001b[0m\n\u001b[0m\u001b[0;32m     21\u001b[0m                 \u001b[0mdoc\u001b[0m \u001b[1;33m=\u001b[0m \u001b[0mPDFDocument\u001b[0m\u001b[1;33m(\u001b[0m\u001b[0mparser\u001b[0m\u001b[1;33m)\u001b[0m\u001b[1;33m\u001b[0m\u001b[0m\n\u001b[0;32m     22\u001b[0m                 \u001b[0mnumpages\u001b[0m \u001b[1;33m=\u001b[0m \u001b[0mdoc\u001b[0m\u001b[1;33m.\u001b[0m\u001b[0mcatalog\u001b[0m\u001b[1;33m[\u001b[0m\u001b[1;34m'Pages'\u001b[0m\u001b[1;33m]\u001b[0m\u001b[1;33m.\u001b[0m\u001b[0mresolve\u001b[0m\u001b[1;33m(\u001b[0m\u001b[1;33m)\u001b[0m\u001b[1;33m[\u001b[0m\u001b[1;34m'Count'\u001b[0m\u001b[1;33m]\u001b[0m\u001b[1;33m\u001b[0m\u001b[0m\n",
      "\u001b[1;32m~\\Anaconda3\\lib\\site-packages\\pdfminer\\pdfdocument.py\u001b[0m in \u001b[0;36m__init__\u001b[1;34m(self, parser, password, caching, fallback)\u001b[0m\n\u001b[0;32m    562\u001b[0m             \u001b[0mparser\u001b[0m\u001b[1;33m.\u001b[0m\u001b[0mfallback\u001b[0m \u001b[1;33m=\u001b[0m \u001b[1;32mTrue\u001b[0m\u001b[1;33m\u001b[0m\u001b[0m\n\u001b[0;32m    563\u001b[0m             \u001b[0mxref\u001b[0m \u001b[1;33m=\u001b[0m \u001b[0mPDFXRefFallback\u001b[0m\u001b[1;33m(\u001b[0m\u001b[1;33m)\u001b[0m\u001b[1;33m\u001b[0m\u001b[0m\n\u001b[1;32m--> 564\u001b[1;33m             \u001b[0mxref\u001b[0m\u001b[1;33m.\u001b[0m\u001b[0mload\u001b[0m\u001b[1;33m(\u001b[0m\u001b[0mparser\u001b[0m\u001b[1;33m)\u001b[0m\u001b[1;33m\u001b[0m\u001b[0m\n\u001b[0m\u001b[0;32m    565\u001b[0m             \u001b[0mself\u001b[0m\u001b[1;33m.\u001b[0m\u001b[0mxrefs\u001b[0m\u001b[1;33m.\u001b[0m\u001b[0mappend\u001b[0m\u001b[1;33m(\u001b[0m\u001b[0mxref\u001b[0m\u001b[1;33m)\u001b[0m\u001b[1;33m\u001b[0m\u001b[0m\n\u001b[0;32m    566\u001b[0m         \u001b[1;32mfor\u001b[0m \u001b[0mxref\u001b[0m \u001b[1;32min\u001b[0m \u001b[0mself\u001b[0m\u001b[1;33m.\u001b[0m\u001b[0mxrefs\u001b[0m\u001b[1;33m:\u001b[0m\u001b[1;33m\u001b[0m\u001b[0m\n",
      "\u001b[1;32m~\\Anaconda3\\lib\\site-packages\\pdfminer\\pdfdocument.py\u001b[0m in \u001b[0;36mload\u001b[1;34m(self, parser)\u001b[0m\n\u001b[0;32m    191\u001b[0m             \u001b[1;31m# expand ObjStm.\u001b[0m\u001b[1;33m\u001b[0m\u001b[1;33m\u001b[0m\u001b[0m\n\u001b[0;32m    192\u001b[0m             \u001b[0mparser\u001b[0m\u001b[1;33m.\u001b[0m\u001b[0mseek\u001b[0m\u001b[1;33m(\u001b[0m\u001b[0mpos\u001b[0m\u001b[1;33m)\u001b[0m\u001b[1;33m\u001b[0m\u001b[0m\n\u001b[1;32m--> 193\u001b[1;33m             \u001b[1;33m(\u001b[0m\u001b[0m_\u001b[0m\u001b[1;33m,\u001b[0m \u001b[0mobj\u001b[0m\u001b[1;33m)\u001b[0m \u001b[1;33m=\u001b[0m \u001b[0mparser\u001b[0m\u001b[1;33m.\u001b[0m\u001b[0mnextobject\u001b[0m\u001b[1;33m(\u001b[0m\u001b[1;33m)\u001b[0m\u001b[1;33m\u001b[0m\u001b[0m\n\u001b[0m\u001b[0;32m    194\u001b[0m             \u001b[1;32mif\u001b[0m \u001b[0misinstance\u001b[0m\u001b[1;33m(\u001b[0m\u001b[0mobj\u001b[0m\u001b[1;33m,\u001b[0m \u001b[0mPDFStream\u001b[0m\u001b[1;33m)\u001b[0m \u001b[1;32mand\u001b[0m \u001b[0mobj\u001b[0m\u001b[1;33m.\u001b[0m\u001b[0mget\u001b[0m\u001b[1;33m(\u001b[0m\u001b[1;34m'Type'\u001b[0m\u001b[1;33m)\u001b[0m \u001b[1;32mis\u001b[0m \u001b[0mLITERAL_OBJSTM\u001b[0m\u001b[1;33m:\u001b[0m\u001b[1;33m\u001b[0m\u001b[0m\n\u001b[0;32m    195\u001b[0m                 \u001b[0mstream\u001b[0m \u001b[1;33m=\u001b[0m \u001b[0mstream_value\u001b[0m\u001b[1;33m(\u001b[0m\u001b[0mobj\u001b[0m\u001b[1;33m)\u001b[0m\u001b[1;33m\u001b[0m\u001b[0m\n",
      "\u001b[1;32m~\\Anaconda3\\lib\\site-packages\\pdfminer\\psparser.py\u001b[0m in \u001b[0;36mnextobject\u001b[1;34m(self)\u001b[0m\n\u001b[0;32m    622\u001b[0m             \u001b[1;32melif\u001b[0m \u001b[0misinstance\u001b[0m\u001b[1;33m(\u001b[0m\u001b[0mtoken\u001b[0m\u001b[1;33m,\u001b[0m\u001b[0mPSKeyword\u001b[0m\u001b[1;33m)\u001b[0m\u001b[1;33m:\u001b[0m\u001b[1;33m\u001b[0m\u001b[0m\n\u001b[0;32m    623\u001b[0m                 \u001b[0mlogging\u001b[0m\u001b[1;33m.\u001b[0m\u001b[0mdebug\u001b[0m\u001b[1;33m(\u001b[0m\u001b[1;34m'do_keyword: pos=%r, token=%r, stack=%r'\u001b[0m\u001b[1;33m,\u001b[0m \u001b[0mpos\u001b[0m\u001b[1;33m,\u001b[0m \u001b[0mtoken\u001b[0m\u001b[1;33m,\u001b[0m \u001b[0mself\u001b[0m\u001b[1;33m.\u001b[0m\u001b[0mcurstack\u001b[0m\u001b[1;33m)\u001b[0m\u001b[1;33m\u001b[0m\u001b[0m\n\u001b[1;32m--> 624\u001b[1;33m                 \u001b[0mself\u001b[0m\u001b[1;33m.\u001b[0m\u001b[0mdo_keyword\u001b[0m\u001b[1;33m(\u001b[0m\u001b[0mpos\u001b[0m\u001b[1;33m,\u001b[0m \u001b[0mtoken\u001b[0m\u001b[1;33m)\u001b[0m\u001b[1;33m\u001b[0m\u001b[0m\n\u001b[0m\u001b[0;32m    625\u001b[0m             \u001b[1;32melse\u001b[0m\u001b[1;33m:\u001b[0m\u001b[1;33m\u001b[0m\u001b[0m\n\u001b[0;32m    626\u001b[0m                 \u001b[0mlogging\u001b[0m\u001b[1;33m.\u001b[0m\u001b[0merror\u001b[0m\u001b[1;33m(\u001b[0m\u001b[1;34m'unknown token: pos=%r, token=%r, stack=%r'\u001b[0m\u001b[1;33m,\u001b[0m \u001b[0mpos\u001b[0m\u001b[1;33m,\u001b[0m \u001b[0mtoken\u001b[0m\u001b[1;33m,\u001b[0m \u001b[0mself\u001b[0m\u001b[1;33m.\u001b[0m\u001b[0mcurstack\u001b[0m\u001b[1;33m)\u001b[0m\u001b[1;33m\u001b[0m\u001b[0m\n",
      "\u001b[1;32m~\\Anaconda3\\lib\\site-packages\\pdfminer\\pdfparser.py\u001b[0m in \u001b[0;36mdo_keyword\u001b[1;34m(self, pos, token)\u001b[0m\n\u001b[0;32m    118\u001b[0m                 \u001b[0mobjlen\u001b[0m \u001b[1;33m+=\u001b[0m \u001b[0mlen\u001b[0m\u001b[1;33m(\u001b[0m\u001b[0mline\u001b[0m\u001b[1;33m)\u001b[0m\u001b[1;33m\u001b[0m\u001b[0m\n\u001b[0;32m    119\u001b[0m                 \u001b[1;32mif\u001b[0m \u001b[0mself\u001b[0m\u001b[1;33m.\u001b[0m\u001b[0mfallback\u001b[0m\u001b[1;33m:\u001b[0m\u001b[1;33m\u001b[0m\u001b[0m\n\u001b[1;32m--> 120\u001b[1;33m                     \u001b[0mdata\u001b[0m \u001b[1;33m+=\u001b[0m \u001b[0mline\u001b[0m\u001b[1;33m\u001b[0m\u001b[0m\n\u001b[0m\u001b[0;32m    121\u001b[0m             \u001b[0mself\u001b[0m\u001b[1;33m.\u001b[0m\u001b[0mseek\u001b[0m\u001b[1;33m(\u001b[0m\u001b[0mpos\u001b[0m\u001b[1;33m+\u001b[0m\u001b[0mobjlen\u001b[0m\u001b[1;33m)\u001b[0m\u001b[1;33m\u001b[0m\u001b[0m\n\u001b[0;32m    122\u001b[0m             \u001b[1;31m# XXX limit objlen not to exceed object boundary\u001b[0m\u001b[1;33m\u001b[0m\u001b[1;33m\u001b[0m\u001b[0m\n",
      "\u001b[1;31mKeyboardInterrupt\u001b[0m: "
     ]
    }
   ],
   "source": [
    "download_and_scrape_pdf('https://www.cityofchicago.org/content/dam/city/depts/bacp/Consumer%20Information/webcmiflyer20141126.pdf')"
   ]
  },
  {
   "cell_type": "code",
   "execution_count": 127,
   "metadata": {
    "scrolled": true
   },
   "outputs": [
    {
     "data": {
      "text/plain": [
       "'\\x0c'"
      ]
     },
     "execution_count": 127,
     "metadata": {},
     "output_type": "execute_result"
    }
   ],
   "source": [
    "convert_pdf_to_txt('temp/temp.pdf')"
   ]
  },
  {
   "cell_type": "code",
   "execution_count": null,
   "metadata": {
    "collapsed": true
   },
   "outputs": [],
   "source": []
  },
  {
   "cell_type": "code",
   "execution_count": null,
   "metadata": {
    "collapsed": true
   },
   "outputs": [],
   "source": []
  },
  {
   "cell_type": "code",
   "execution_count": null,
   "metadata": {
    "collapsed": true
   },
   "outputs": [],
   "source": []
  },
  {
   "cell_type": "code",
   "execution_count": null,
   "metadata": {
    "collapsed": true
   },
   "outputs": [],
   "source": []
  },
  {
   "cell_type": "code",
   "execution_count": null,
   "metadata": {
    "collapsed": true
   },
   "outputs": [],
   "source": []
  },
  {
   "cell_type": "code",
   "execution_count": null,
   "metadata": {
    "collapsed": true
   },
   "outputs": [],
   "source": []
  }
 ],
 "metadata": {
  "kernelspec": {
   "display_name": "Python 3",
   "language": "python",
   "name": "python3"
  },
  "language_info": {
   "codemirror_mode": {
    "name": "ipython",
    "version": 3
   },
   "file_extension": ".py",
   "mimetype": "text/x-python",
   "name": "python",
   "nbconvert_exporter": "python",
   "pygments_lexer": "ipython3",
   "version": "3.6.3"
  }
 },
 "nbformat": 4,
 "nbformat_minor": 2
}
